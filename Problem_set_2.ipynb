{
 "cells": [
  {
   "cell_type": "markdown",
   "metadata": {},
   "source": [
    "## Problem Set 2"
   ]
  },
  {
   "cell_type": "markdown",
   "metadata": {},
   "source": [
    "Each month, a credit card statement will come with the option for you to pay a minimum amount of your charge, usually 2% of the balance due. However, the credit card company earns money by charging interest on the balance that you don't pay. So even if you pay credit card payments on time, interest is still accruing on the outstanding balance.\n",
    "\n",
    "Say you've made a $5,000 purchase on a credit card with an 18% annual interest rate and a 2% minimum monthly payment rate. If you only pay the minimum monthly amount for a year, how much is the remaining balance?"
   ]
  },
  {
   "cell_type": "markdown",
   "metadata": {},
   "source": [
    "### Problem 1 \n",
    "Write a program to calculate the credit card balance after one year if a person only pays the minimum monthly payment required by the credit card company each month.\n",
    "\n",
    "The following variables contain values as described below:\n",
    "\n",
    "- balance - the outstanding balance on the credit card\n",
    "\n",
    "- annualInterestRate - annual interest rate as a decimal\n",
    "\n",
    "- monthlyPaymentRate - minimum monthly payment rate as a decimal\n",
    "\n",
    "For each month, calculate statements on the monthly payment and remaining balance. At the end of 12 months, print out the remaining balance."
   ]
  },
  {
   "cell_type": "code",
   "execution_count": 3,
   "metadata": {},
   "outputs": [],
   "source": [
    "balance = 5000\n",
    "annualInterestRate = 0.2\n",
    "monthlyPaymentRate = 0.04"
   ]
  },
  {
   "cell_type": "code",
   "execution_count": 4,
   "metadata": {},
   "outputs": [
    {
     "name": "stdout",
     "output_type": "stream",
     "text": [
      "Remaining balance: 3735.66\n"
     ]
    }
   ],
   "source": [
    "for i in range(12):\n",
    "    monthly_payment = balance*monthlyPaymentRate\n",
    "    balance_after_payment = balance-monthly_payment\n",
    "    monthly_interest = balance_after_payment*(annualInterestRate/12.0)\n",
    "    balance = balance_after_payment+monthly_interest\n",
    "    \n",
    "print('Remaining balance:', round(balance,2)) "
   ]
  },
  {
   "cell_type": "markdown",
   "metadata": {},
   "source": [
    "### Problem 2\n",
    "Now write a program that calculates the minimum fixed monthly payment needed in order pay off a credit card balance within 12 months. By a fixed monthly payment, we mean a single number which does not change each month, but instead is a constant amount that will be paid each month.\n",
    "\n",
    "In this problem, we will not be dealing with a minimum monthly payment rate.\n",
    "\n",
    "The following variables contain values as described below:\n",
    "\n",
    "- balance - the outstanding balance on the credit card\n",
    "\n",
    "- annualInterestRate - annual interest rate as a decimal "
   ]
  },
  {
   "cell_type": "code",
   "execution_count": 5,
   "metadata": {},
   "outputs": [],
   "source": [
    "balance = 3329\n",
    "annualInterestRate = 0.2"
   ]
  },
  {
   "cell_type": "code",
   "execution_count": 6,
   "metadata": {},
   "outputs": [
    {
     "name": "stdout",
     "output_type": "stream",
     "text": [
      "Lowest payment: 310\n"
     ]
    }
   ],
   "source": [
    "x = 10\n",
    "balance_working = balance\n",
    "while balance_working > 0:\n",
    "    balance_working = balance\n",
    "    for i in range(12):\n",
    "        monthly_payment = x\n",
    "        balance_after_payment = balance_working-monthly_payment\n",
    "        monthly_interest = balance_after_payment*(annualInterestRate/12.0)\n",
    "        balance_working = balance_after_payment+monthly_interest\n",
    "    x += 10\n",
    "print('Lowest payment:', monthly_payment)   "
   ]
  },
  {
   "cell_type": "markdown",
   "metadata": {},
   "source": [
    "### Problem 3 - Using Bisection Search to Make the Program Faster\n",
    "\n",
    "20.0/20.0 Punkte (benotet)\n",
    "You'll notice that in Problem 2, your monthly payment had to be a multiple of $10. \n",
    "Why did we make it that way? You can try running your code locally so that the payment can be any dollar and cent amount (in other words, the monthly payment is a multiple of $0.01). Does your code still work? It should, but you may notice that your code runs more slowly, especially in cases with very large balances and interest rates. (Note: when your code is running on our servers, there are limits on the amount of computing time each submission is allowed, so your observations from running this experiment on the grading system might be limited to an error message complaining about too much time taken.)\n",
    "\n",
    "Well then, how can we calculate a more accurate fixed monthly payment than we did in Problem 2 without running into the problem of slow code? We can make this program run faster using a technique introduced in lecture - bisection search!\n",
    "\n",
    "The following variables contain values as described below:\n",
    "\n",
    "- balance - the outstanding balance on the credit card\n",
    "\n",
    "- annualInterestRate - annual interest rate as a decimal"
   ]
  },
  {
   "cell_type": "code",
   "execution_count": null,
   "metadata": {},
   "outputs": [],
   "source": [
    "balance = 320000\n",
    "annualInterestRate = 0.2"
   ]
  },
  {
   "cell_type": "code",
   "execution_count": 8,
   "metadata": {},
   "outputs": [
    {
     "name": "stdout",
     "output_type": "stream",
     "text": [
      "Lowest Payment: 29157.11\n"
     ]
    }
   ],
   "source": [
    "updatedBalance = balance\n",
    "monthlyInterestRate = (annualInterestRate) / 12\n",
    "epsilon = 0.1\n",
    "lowerBound = balance / 12\n",
    "upperBound = (balance * (1 + monthlyInterestRate)**12) / 12\n",
    "ans = (upperBound + lowerBound)/2.0\n",
    "\n",
    "while abs(0 - updatedBalance) >= epsilon:\n",
    "    updatedBalance = balance\n",
    "    for i in range(0, 12):\n",
    "        updatedBalance = round(((updatedBalance - ans) * (1 + monthlyInterestRate)), 2)\n",
    "    if  updatedBalance >= 0:\n",
    "        lowerBound = ans\n",
    "    else:\n",
    "        upperBound = ans\n",
    "    ans = (upperBound + lowerBound)/2.0\n",
    "print(\"Lowest Payment: \" + str(round(ans, 2)))"
   ]
  }
 ],
 "metadata": {
  "interpreter": {
   "hash": "40d3a090f54c6569ab1632332b64b2c03c39dcf918b08424e98f38b5ae0af88f"
  },
  "kernelspec": {
   "display_name": "Python 3.9.7 ('base')",
   "language": "python",
   "name": "python3"
  },
  "language_info": {
   "codemirror_mode": {
    "name": "ipython",
    "version": 3
   },
   "file_extension": ".py",
   "mimetype": "text/x-python",
   "name": "python",
   "nbconvert_exporter": "python",
   "pygments_lexer": "ipython3",
   "version": "3.9.7"
  },
  "orig_nbformat": 4
 },
 "nbformat": 4,
 "nbformat_minor": 2
}
